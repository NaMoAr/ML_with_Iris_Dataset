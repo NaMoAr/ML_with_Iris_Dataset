{
 "cells": [
  {
   "cell_type": "markdown",
   "metadata": {},
   "source": [
    "# CS171 - Winter 2020 - Assignment 3\n",
    "### Instructor: Vagelis Papalexakis\n",
    "### TA: Ekta Gujral\n",
    "### Credit for  Assignment 3: 15/35 points of the final grade\n",
    "\n",
    "In this assignment we will implement the K-means clustering algorithm. We are going to use the same dataset as in the previous two assignments (<b>Note</b>: make sure you copy the dataset from Assignment 1 to the folder of this assignment!)."
   ]
  },
  {
   "cell_type": "code",
   "execution_count": 1,
   "metadata": {},
   "outputs": [],
   "source": [
    "import numpy as np\n",
    "import pandas as pd\n",
    "import matplotlib.pyplot as plt\n",
    "import seaborn as sb\n",
    "import random as rand\n",
    "from sklearn.model_selection import train_test_split\n",
    "import copy\n",
    "\n",
    "\n",
    "data_names = ['sepal_length', 'sepal_width', 'petal_length', 'petal_width', 'label']\n",
    "data = pd.read_csv('iris.data', \n",
    "                   names = data_names)\n"
   ]
  },
  {
   "cell_type": "markdown",
   "metadata": {},
   "source": [
    "## Question 1: Implementing and testing K-means clustering [100%]\n",
    "### Question 1a: Implementing K-Means clustering [50%]\n",
    "In this question you should implement a function that performs k-means clustering, using the Euclidean distance (you may use Numpy libraries for the distance computation). For calculation of the centroid you should use the 'mean' function.\n",
    "\n",
    "For uniformity, you should implement a function with the following specifications:\n",
    "```python\n",
    "def kmeans_clustering(all_vals,K,max_iter = 100, tol = pow(10,-3) ):\n",
    "```\n",
    "where 1) 'all_vals' is the $N \\times M$ matrix that contains all data points ($N$ is the number of data points and $M$ is the number of features, each row of the matrix is a data point), 2) 'K' is the number of clusters, 3) 'max_iter' is the maxium number of iterations, and 4) 'tol' is the tolerance for the change of the sum of squares of errors that determines convergence.\n",
    "\n",
    "Your function should return the following variables: 1) 'assignments': this is a $N\\times 1$ vector (where $N$ is the number of data points) where the $i$-th position of that vector contains the cluster number that the $i$-th data point is assigned to, 2) 'centroids': this is a $K\\times M$ matrix, each row of which contains the centroid for every cluster, 3) 'all_sse': this is a vector that contains all the sum of squares of errors per iteration of the algorithm, and 4) 'iters': this is the number of iterations that the algorithm ran.\n",
    "\n",
    "Here we are going to implement the simplest version of K-means, where the initial centroids are chosen entirely at random among all the data points.\n",
    "\n",
    "As we saw in class, the K-means algorithm iterates over the following steps:\n",
    "- Given a set of centroids, assign all data points to the cluster represented by its nearest centroid (according to Euclidean distance)\n",
    "- Given a set of assignments of points to clusters, compute the new centroids for every cluster, by taking the mean of all the points assigned to each cluster.\n",
    "\n",
    "Your algorithm should converge if 1) the maximum number of iterations is reached, or 2) if the SSE between two consecutive iterations does not change a lot (as in the gradient descent for linear regression we saw in Assignment 2). In order to check for the latter condition, you may use the following piece of code:\n",
    "```python\n",
    "if np.absolute(all_sse[it] - all_sse[it-1])/all_sse[it-1] <= tol\n",
    "```\n",
    "\n",
    "In order to calculate the SSE (sum of squares of error) first you need to define what an 'error' is. In k-means, error per data point refers to the Euclidean distance of that particular point from its assigned centroid. SSE sums up all those squared Euclidean distances for all data points and comes up with a number that reflects the total error of approximating every data points by its assigned centroid.\n",
    "\n",
    "\n"
   ]
  },
  {
   "cell_type": "code",
   "execution_count": 2,
   "metadata": {},
   "outputs": [
    {
     "data": {
      "text/plain": [
       "(array([2, 2, 2, 2, 2, 2, 2, 2, 2, 2, 2, 2, 2, 2, 2, 2, 2, 2, 2, 2, 2, 2,\n",
       "        2, 2, 2, 2, 2, 2, 2, 2, 2, 2, 2, 2, 2, 2, 2, 2, 2, 2, 2, 2, 2, 2,\n",
       "        2, 2, 2, 2, 2, 2, 1, 0, 1, 0, 0, 0, 0, 0, 0, 0, 0, 0, 0, 0, 0, 0,\n",
       "        0, 0, 0, 0, 0, 0, 0, 0, 0, 0, 0, 1, 0, 0, 0, 0, 0, 0, 0, 0, 0, 0,\n",
       "        0, 0, 0, 0, 0, 0, 0, 0, 0, 0, 0, 0, 1, 0, 1, 1, 1, 1, 0, 1, 1, 1,\n",
       "        1, 1, 1, 0, 0, 1, 1, 1, 1, 0, 1, 0, 1, 0, 1, 1, 0, 0, 1, 1, 1, 1,\n",
       "        1, 0, 1, 1, 1, 1, 0, 1, 1, 1, 0, 1, 1, 1, 0, 1, 1, 0], dtype=int64),\n",
       " array([[5.88360656, 2.74098361, 4.38852459, 1.43442623],\n",
       "        [6.85384615, 3.07692308, 5.71538462, 2.05384615],\n",
       "        [5.006     , 3.418     , 1.464     , 0.244     ]]),\n",
       " array([19.9824805 , 17.6300464 , 16.66730921, 15.34795762, 15.06523043,\n",
       "        15.15809391, 15.21487463, 15.34865111, 15.40181283, 15.37363494,\n",
       "        15.31105696, 15.25156981, 15.17333422, 15.13306787, 15.13306787,\n",
       "         0.        ,  0.        ,  0.        ,  0.        ,  0.        ,\n",
       "         0.        ,  0.        ,  0.        ,  0.        ,  0.        ,\n",
       "         0.        ,  0.        ,  0.        ,  0.        ,  0.        ,\n",
       "         0.        ,  0.        ,  0.        ,  0.        ,  0.        ,\n",
       "         0.        ,  0.        ,  0.        ,  0.        ,  0.        ,\n",
       "         0.        ,  0.        ,  0.        ,  0.        ,  0.        ,\n",
       "         0.        ,  0.        ,  0.        ,  0.        ,  0.        ,\n",
       "         0.        ,  0.        ,  0.        ,  0.        ,  0.        ,\n",
       "         0.        ,  0.        ,  0.        ,  0.        ,  0.        ,\n",
       "         0.        ,  0.        ,  0.        ,  0.        ,  0.        ,\n",
       "         0.        ,  0.        ,  0.        ,  0.        ,  0.        ,\n",
       "         0.        ,  0.        ,  0.        ,  0.        ,  0.        ,\n",
       "         0.        ,  0.        ,  0.        ,  0.        ,  0.        ,\n",
       "         0.        ,  0.        ,  0.        ,  0.        ,  0.        ,\n",
       "         0.        ,  0.        ,  0.        ,  0.        ,  0.        ,\n",
       "         0.        ,  0.        ,  0.        ,  0.        ,  0.        ,\n",
       "         0.        ,  0.        ,  0.        ,  0.        ,  0.        ]),\n",
       " 15)"
      ]
     },
     "execution_count": 2,
     "metadata": {},
     "output_type": "execute_result"
    }
   ],
   "source": [
    "#k-means clustering\n",
    "all_vals = data.values[:, 0:4]\n",
    "all_vals = all_vals.astype(float)\n",
    "\n",
    "def kmeans_clustering(all_vals,K,max_iter = 100, tol = pow(10,-3) ):\n",
    "    all_sse = np.zeros(max_iter)\n",
    "    n = all_vals.shape[0] #150\n",
    "    c = all_vals.shape[1] #4\n",
    "    \n",
    "    centers = np.zeros((K,c))\n",
    "\n",
    "    data_index = list(range(0, n-1))\n",
    "    random_index = rand.sample(data_index, K)\n",
    "    for j in range (0, K):\n",
    "        centers[j] = (all_vals[random_index[j]])\n",
    "   \n",
    "    centers_old = np.zeros(centers.shape) # to store old centers\n",
    "    centers_new = copy.deepcopy(centers) # Store new centers\n",
    "\n",
    "    clusters = np.zeros(n)\n",
    "    distances = np.zeros((n,K))\n",
    "    \n",
    "    SSE_change = 1\n",
    "    iters = 0\n",
    "    \n",
    "    while (SSE_change > tol) and (iters < max_iter): \n",
    "        temp = 0\n",
    "        sse = 0\n",
    "        \n",
    "        for i in range(K):\n",
    "            distances[:,i] = np.linalg.norm(all_vals - centers_new[i], axis=1)\n",
    "       \n",
    "        \n",
    "        clusters = np.argmin(distances, axis = 1)\n",
    "    \n",
    "        centers_old = copy.deepcopy(centers_new)\n",
    "        \n",
    "        for i in range(K):\n",
    "            centers_new[i] = np.mean(all_vals[clusters == i], axis=0)\n",
    "        \n",
    "        \n",
    "        \n",
    "        for i in range(K):\n",
    "            temp += np.linalg.norm(all_vals[clusters == i] - centers_new[i])\n",
    "        \n",
    "       \n",
    "        all_sse[iters] = temp\n",
    "        \n",
    "        #print(all_sse[iters])\n",
    "                                 \n",
    "        if(iters > 1):\n",
    "            SSE_change = np.absolute(all_sse[iters] - all_sse[iters-1])/all_sse[iters-1]\n",
    "        iters = iters + 1\n",
    "    \n",
    "    \n",
    "    return clusters,centers_new,all_sse,iters    \n",
    "    \n",
    "    \n",
    "kmeans_clustering(all_vals,3,max_iter = 100, tol = pow(10,-3) )"
   ]
  },
  {
   "cell_type": "markdown",
   "metadata": {},
   "source": [
    "### Question 1b: Visualizing K-means [10%]\n",
    "In this question we wll visualize the result of the K-means algorithm. For ease of visualization, we will focus on a scatterplot of two of the four features of the Iris dataset. In particular: run your K-means code with K=3 and default values for the rest of the inputs. Subsequently, make a single scatterplot that contains all data points of the dataset for features 'sepal_length' and 'petal_length' and color every data point according to its cluster assignment."
   ]
  },
  {
   "cell_type": "code",
   "execution_count": 7,
   "metadata": {},
   "outputs": [
    {
     "data": {
      "text/plain": [
       "<matplotlib.collections.PathCollection at 0x1f5b46b1370>"
      ]
     },
     "execution_count": 7,
     "metadata": {},
     "output_type": "execute_result"
    },
    {
     "data": {
      "image/png": "[encoded data removed]",
      "text/plain": [
       "<Figure size 432x288 with 1 Axes>"
      ]
     },
     "metadata": {
      "needs_background": "light"
     },
     "output_type": "display_data"
    }
   ],
   "source": [
    "#your code here\n",
    "\n",
    "all_labels = data['label'].values\n",
    "unique_labels = np.unique(all_labels)\n",
    "new_labels = np.zeros(len(all_labels))\n",
    "for i in range(0,len(unique_labels)):\n",
    "    new_labels[all_labels == unique_labels[i]] = i\n",
    "all_labels = new_labels\n",
    "\n",
    "n = all_vals.shape[0]\n",
    "clusters_Alg,centers_Alg,sse_Alg,it_Alg = kmeans_clustering(all_vals,3,max_iter = 100, tol = pow(10,-3) )\n",
    "\n",
    "\n",
    "colors=['orange', 'blue', 'green']\n",
    "for i in range(n):\n",
    "    plt.scatter(all_vals[i, 0], all_vals[i,2], s=7, color = colors[int(all_labels[i])])\n",
    "plt.scatter(centers_Alg[:,0], centers_Alg[:,2], marker='*', c='r', s=150)"
   ]
  },
  {
   "cell_type": "markdown",
   "metadata": {},
   "source": [
    "### Question 1c: Testing K-means [40%]\n",
    "Selecting the right number of clusters $K$ is a very challenging problem, especially when we don't have some side-information or domain expertise that can help us narrow down a few reasonable values for that parameter. \n",
    "\n",
    "In the absence of any other information, a very useful exercise is to create the plot of SSE (sum of squares of errors) as a function of $K$. Ideally, for a very small $K$, the error will be high (since we are trying to approximate a whole lot of points with a very small number of centroids) and as $K$ increases, the error decreases. However, after a certain value (or a couple of values) for $K$, we will notice diminishing returns, i.e., the error will be decreasing, but not to a great degree. Typically, the value(s) for $K$ where this behavior is observed (the threshold point after which we observe diminishing returns) is usually a good guess for the number of clusters. \n",
    "\n",
    "In this question, we will have to create the SSE vs. K plot for $K = 1\\cdots10$. Furthermore, because K-means uses randomized initialization, we need to do a number of iterations per value of $K$ in order to get a good estimate of the actual SSE (which may not be caused by randomness in the initialization). For this question, you will have to run the entire K-means algorithm to completion, and repeat it 50 different times per $K$, and collect all SSEs. In the figure, you should report the mean SSE per $K$, surrounded by error-bars which will encode the standard deviation."
   ]
  },
  {
   "cell_type": "code",
   "execution_count": 16,
   "metadata": {},
   "outputs": [
    {
     "data": {
      "text/plain": [
       "<ErrorbarContainer object of 3 artists>"
      ]
     },
     "execution_count": 16,
     "metadata": {},
     "output_type": "execute_result"
    },
    {
     "data": {
      "image/png": "[encoded data removed]",
      "text/plain": [
       "<Figure size 432x288 with 1 Axes>"
      ]
     },
     "metadata": {
      "needs_background": "light"
     },
     "output_type": "display_data"
    }
   ],
   "source": [
    "#your code here\n",
    "matrix_sse =  np.zeros((10, 50))\n",
    "\n",
    "for i in range (0,50):\n",
    "   \n",
    "    for k in range (1,11):\n",
    "        all_cluster, all_centers, all_sse, it = kmeans_clustering(all_vals,k,max_iter = 100, tol = pow(10,-3) )\n",
    "        matrix_sse [k-1][i] = all_sse[it-1]\n",
    "        \n",
    "def average_sse(k, matrix):\n",
    "    total_sse = 0\n",
    "    for i in range (0,50):\n",
    "        total_sse += matrix [k-1][i]\n",
    "    average = total_sse/50\n",
    "    return average\n",
    "\n",
    "def std_deviation_sse(k, matrix):\n",
    "    array = []\n",
    "    for j in range (0,50):\n",
    "        array.append(matrix [k-1][j])\n",
    "    std_deviation = np.std(array, axis=0)\n",
    "    return std_deviation\n",
    "\n",
    "x = [1,2,3,4,5,6,7,8,9,10]\n",
    "y = [average_sse(1, matrix_sse),\n",
    "    average_sse(2, matrix_sse),\n",
    "    average_sse(3, matrix_sse),\n",
    "    average_sse(4, matrix_sse),\n",
    "    average_sse(5, matrix_sse),\n",
    "    average_sse(6, matrix_sse),\n",
    "    average_sse(7, matrix_sse),\n",
    "    average_sse(8, matrix_sse),\n",
    "    average_sse(9, matrix_sse),\n",
    "    average_sse(10, matrix_sse)]\n",
    "\n",
    "yerr = [std_deviation_sse(1, matrix_sse),\n",
    "       std_deviation_sse(2, matrix_sse),\n",
    "       std_deviation_sse(3, matrix_sse),\n",
    "       std_deviation_sse(4, matrix_sse),\n",
    "       std_deviation_sse(5, matrix_sse),\n",
    "       std_deviation_sse(6, matrix_sse),\n",
    "       std_deviation_sse(7, matrix_sse),\n",
    "       std_deviation_sse(8, matrix_sse),\n",
    "       std_deviation_sse(9, matrix_sse),\n",
    "       std_deviation_sse(10, matrix_sse)]\n",
    "\n",
    "plt.errorbar(x, y, yerr)"
   ]
  },
  {
   "cell_type": "code",
   "execution_count": null,
   "metadata": {},
   "outputs": [],
   "source": []
  }
 ],
 "metadata": {
  "kernelspec": {
   "display_name": "Python 3",
   "language": "python",
   "name": "python3"
  },
  "language_info": {
   "codemirror_mode": {
    "name": "ipython",
    "version": 3
   },
   "file_extension": ".py",
   "mimetype": "text/x-python",
   "name": "python",
   "nbconvert_exporter": "python",
   "pygments_lexer": "ipython3",
   "version": "3.8.5"
  }
 },
 "nbformat": 4,
 "nbformat_minor": 4
}
